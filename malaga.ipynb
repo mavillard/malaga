{
 "cells": [
  {
   "cell_type": "markdown",
   "metadata": {},
   "source": [
    "# Building graph"
   ]
  },
  {
   "cell_type": "code",
   "execution_count": 1,
   "metadata": {
    "collapsed": true
   },
   "outputs": [],
   "source": [
    "import json\n",
    "\n",
    "import networkx as nx"
   ]
  },
  {
   "cell_type": "code",
   "execution_count": 2,
   "metadata": {
    "collapsed": true
   },
   "outputs": [],
   "source": [
    "graph = nx.MultiDiGraph()"
   ]
  },
  {
   "cell_type": "markdown",
   "metadata": {},
   "source": [
    "## Nodes"
   ]
  },
  {
   "cell_type": "code",
   "execution_count": 3,
   "metadata": {
    "collapsed": false
   },
   "outputs": [],
   "source": [
    "for c in ['ent', 'per', 'pub', 'emp', 'exp']:\n",
    "    with open('data/' + c + '-posts.json') as f:\n",
    "        js = json.load(f)\n",
    "        for e in js[1:]:\n",
    "            ID = str(e['ID'])\n",
    "            typ = e['post_type']\n",
    "            if typ == 'entity':\n",
    "                name = e['post_title']\n",
    "                keyword = '; '.join([t['name'] for t in e['terms'] if t['taxonomy'] == 'tax_keyword'])\n",
    "                typology = '; '.join([t['name'] for t in e['terms'] if t['taxonomy'] == 'tax_typology'])\n",
    "                ownership = '; '.join([t['name'] for t in e['terms'] if t['taxonomy'] == 'tax_ownership'])\n",
    "                nationality = ''\n",
    "                if '_cp__ent_town' in e['meta']:\n",
    "                    nationality  = e['meta']['_cp__ent_town'][0].split('; ')[-1]\n",
    "                data = {\n",
    "                    'id': ID,\n",
    "                    'type': typ,\n",
    "                    'name': name,\n",
    "                    'keyword': keyword,\n",
    "                    'typology': typology,\n",
    "                    'ownership': ownership,\n",
    "                    'nationality': nationality,\n",
    "                }\n",
    "            elif typ == 'person':\n",
    "                name = e['post_title']\n",
    "                activity = '; '.join([t['name'] for t in e['terms'] if t['taxonomy'] == 'tax_activity'])\n",
    "                chronology = ''\n",
    "                nationality = ''\n",
    "                if '_cp__ent_town' in e['meta']:\n",
    "                    nationality  = e['meta']['_cp__peo_country'][0].split('; ')[-1]\n",
    "                data = {\n",
    "                    'id': ID,\n",
    "                    'type': typ,\n",
    "                    'name': name,\n",
    "                    'activity': activity,\n",
    "                    'chronology': chronology,\n",
    "                    'nationality': nationality,\n",
    "                }\n",
    "            elif typ == 'book':\n",
    "                title = e['post_title']\n",
    "                date = ''\n",
    "                if '_cp__boo_publishing_date' in e['meta']:\n",
    "                    date = e['meta']['_cp__boo_publishing_date'][0]\n",
    "                publisher = '; '.join([t['name'] for t in e['terms'] if t['taxonomy'] == 'tax_publisher'])\n",
    "                data = {\n",
    "                    'id': ID,\n",
    "                    'type': typ,\n",
    "                    'title': title,\n",
    "                    'date': date,\n",
    "                    'publisher': publisher,\n",
    "                }\n",
    "            elif typ == 'company':\n",
    "                name = e['post_title']\n",
    "                activity = '; '.join([t['name'] for t in e['terms'] if t['taxonomy'] == 'tax_isic4_category'])\n",
    "                nationality = e['meta']['_cp__com_company_headquarter_place'][0].split('; ')[-1]\n",
    "                data = {\n",
    "                    'id': ID,\n",
    "                    'type': typ,\n",
    "                    'name': name,\n",
    "                    'activity': activity,\n",
    "                    'nationality': nationality,\n",
    "                }\n",
    "            elif typ == 'exhibition':\n",
    "                title = e['post_title']\n",
    "                movement = '; '.join([t['name'] for t in e['terms'] if t['taxonomy'] == 'tax_movement'])\n",
    "                period = '; '.join([t['name'] for t in e['terms'] if t['taxonomy'] == 'tax_period'])\n",
    "                topic = '; '.join([t['name'] for t in e['terms'] if t['taxonomy'] == 'tax_topic'])\n",
    "                artwork_type = '; '.join([t['name'] for t in e['terms'] if t['taxonomy'] == 'tax_artwork_type'])\n",
    "                typology = '; '.join([t['name'] for t in e['terms'] if t['taxonomy'] == 'tax_exhibition_type'])\n",
    "                nationality = ''\n",
    "                if '_cp__exh_exhibition_town' in e['meta']:\n",
    "                    nationality = e['meta']['_cp__exh_exhibition_town'][0].split('; ')[-1]\n",
    "                data = {\n",
    "                    'id': ID,\n",
    "                    'type': typ,\n",
    "                    'title': title,\n",
    "                    'movement': movement,\n",
    "                    'period': period,\n",
    "                    'topic': topic,\n",
    "                    'artwork_type': artwork_type,\n",
    "                    'typology': typology,\n",
    "                    'nationality': nationality,\n",
    "                }\n",
    "            graph.add_node(ID, data)"
   ]
  },
  {
   "cell_type": "markdown",
   "metadata": {},
   "source": [
    "## Relationships"
   ]
  },
  {
   "cell_type": "code",
   "execution_count": 4,
   "metadata": {
    "collapsed": false
   },
   "outputs": [],
   "source": [
    "highest_id = str(max(int(ide) for ide in graph))"
   ]
  },
  {
   "cell_type": "code",
   "execution_count": 5,
   "metadata": {
    "collapsed": false
   },
   "outputs": [],
   "source": [
    "def increase_id():\n",
    "    global highest_id\n",
    "    highest_id = str(int(highest_id) + 1)"
   ]
  },
  {
   "cell_type": "code",
   "execution_count": 6,
   "metadata": {
    "collapsed": true
   },
   "outputs": [],
   "source": [
    "def get_id_and_name(s):\n",
    "    if ': ' in s:\n",
    "        ide = s.split(': ')[0]\n",
    "        name = s.split(': ')[1]\n",
    "    else:\n",
    "        increase_id()\n",
    "        ide = highest_id\n",
    "        name = s\n",
    "    return (ide, name)"
   ]
  },
  {
   "cell_type": "code",
   "execution_count": 7,
   "metadata": {
    "collapsed": false
   },
   "outputs": [],
   "source": [
    "for c in ['ent', 'per', 'pub', 'emp', 'exp']:\n",
    "    with open('data/' + c + '-posts.json') as f:\n",
    "        js = json.load(f)\n",
    "        for e in js[1:]:\n",
    "            ID = str(e['ID'])\n",
    "            typ = e['post_type']\n",
    "            if typ == 'entity':\n",
    "                pass\n",
    "            elif typ == 'person':\n",
    "                if '_cp__peo_entity_relation' in e['meta']:\n",
    "                    for entity in e['meta']['_cp__peo_entity_relation']:\n",
    "                        ide, name  = get_id_and_name(entity)\n",
    "                        if ide not in graph:\n",
    "                            data = {\n",
    "                                'id': ide,\n",
    "                                'type': 'entity',\n",
    "                                'name': name,\n",
    "                                'keyword': '',\n",
    "                                'typology': '',\n",
    "                                'ownership': '',\n",
    "                                'nationality': '',\n",
    "                            }\n",
    "                            graph.add_node(ide, data)\n",
    "                            graph.add_edge(ID, ide, label='_cp__peo_entity_relation')\n",
    "                        elif graph.node[ide]['type'] == 'entity':\n",
    "                            graph.add_edge(ID, ide, label='_cp__peo_entity_relation')\n",
    "            elif typ == 'book':\n",
    "                if '_cp__boo_paper_author' in e['meta']:\n",
    "                    for author in e['meta']['_cp__boo_paper_author']:\n",
    "                        ide, name  = get_id_and_name(author)\n",
    "                        if ide not in graph:\n",
    "                            data = {\n",
    "                                'id': ide,\n",
    "                                'type': 'person',\n",
    "                                'name': name,\n",
    "                                'activity': activity,\n",
    "                                'chronology': chronology,\n",
    "                                'nationality': nationality,\n",
    "                            }\n",
    "                            graph.add_node(ide, data)\n",
    "                            graph.add_edge(ide, ID, label='_cp__boo_paper_author')\n",
    "                        elif graph.node[ide]['type'] == 'person':\n",
    "                            graph.add_edge(ide, ID, label='_cp__boo_paper_author')\n",
    "                if '_cp__boo_sponsorship' in e['meta']:\n",
    "                    for entity in e['meta']['_cp__boo_sponsorship']:\n",
    "                        ide, name  = get_id_and_name(entity)\n",
    "                        if ide not in graph:\n",
    "                            data = {\n",
    "                                'id': ide,\n",
    "                                'type': 'entity',\n",
    "                                'name': name,\n",
    "                                'keyword': '',\n",
    "                                'typology': '',\n",
    "                                'ownership': '',\n",
    "                                'nationality': '',\n",
    "                            }\n",
    "                            graph.add_node(ide, data)\n",
    "                            graph.add_edge(ide, ID, label='_cp__boo_sponsorship')\n",
    "                        elif graph.node[ide]['type'] == 'entity':\n",
    "                            graph.add_edge(ide, ID, label='_cp__boo_sponsorship')\n",
    "            elif typ == 'company':\n",
    "                pass\n",
    "            elif typ == 'exhibition':\n",
    "                if '_cp__exh_info_source' in e['meta']:\n",
    "                    for entity in e['meta']['_cp__exh_info_source']:\n",
    "                        ide, name  = get_id_and_name(entity)\n",
    "                        if ide not in graph:\n",
    "                            data = {\n",
    "                                'id': ide,\n",
    "                                'type': 'entity',\n",
    "                                'name': name,\n",
    "                                'keyword': '',\n",
    "                                'typology': '',\n",
    "                                'ownership': '',\n",
    "                                'nationality': '',\n",
    "                            }\n",
    "                            graph.add_node(ide, data)\n",
    "                            graph.add_edge(ide, ID, label='_cp__exh_info_source')\n",
    "                        elif graph.node[ide]['type'] == 'entity':\n",
    "                            graph.add_edge(ide, ID, label='_cp__exh_info_source')\n",
    "                if '_cp__exh_supporter_entity' in e['meta']:\n",
    "                    for entity in e['meta']['_cp__exh_supporter_entity']:\n",
    "                        ide, name  = get_id_and_name(entity)\n",
    "                        if ide not in graph:\n",
    "                            data = {\n",
    "                                'id': ide,\n",
    "                                'type': 'entity',\n",
    "                                'name': name,\n",
    "                                'keyword': '',\n",
    "                                'typology': '',\n",
    "                                'ownership': '',\n",
    "                                'nationality': '',\n",
    "                            }\n",
    "                            graph.add_node(ide, data)\n",
    "                            graph.add_edge(ide, ID, label='_cp__exh_supporter_entity')\n",
    "                        elif graph.node[ide]['type'] == 'entity':\n",
    "                            graph.add_edge(ide, ID, label='_cp__exh_supporter_entity')\n",
    "                if '_cp__exh_funding_entity' in e['meta']:\n",
    "                    for entity in e['meta']['_cp__exh_funding_entity']:\n",
    "                        ide, name  = get_id_and_name(entity)\n",
    "                        if ide not in graph:\n",
    "                            data = {\n",
    "                                'id': ide,\n",
    "                                'type': 'entity',\n",
    "                                'name': name,\n",
    "                                'keyword': '',\n",
    "                                'typology': '',\n",
    "                                'ownership': '',\n",
    "                                'nationality': '',\n",
    "                            }\n",
    "                            graph.add_node(ide, data)\n",
    "                            graph.add_edge(ide, ID, label='_cp__exh_funding_entity')\n",
    "                        elif graph.node[ide]['type'] == 'entity':\n",
    "                            graph.add_edge(ide, ID, label='_cp__exh_funding_entity')\n",
    "                if '_cp__exh_artwork_author' in e['meta']:\n",
    "                    for person in e['meta']['_cp__exh_artwork_author']:\n",
    "                        ide, name  = get_id_and_name(person)\n",
    "                        if ide not in graph:\n",
    "                            data = {\n",
    "                                'id': ide,\n",
    "                                'type': 'person',\n",
    "                                'name': name,\n",
    "                                'activity': '',\n",
    "                                'chronology': '',\n",
    "                                'nationality': '',\n",
    "                            }\n",
    "                            graph.add_node(ide, data)\n",
    "                            graph.add_edge(ide, ID, label='_cp__exh_artwork_author')\n",
    "                        elif graph.node[ide]['type'] == 'person':\n",
    "                            graph.add_edge(ide, ID, label='_cp__exh_artwork_author')\n",
    "                if '_cp__exh_curator' in e['meta']:\n",
    "                    for person in e['meta']['_cp__exh_curator']:\n",
    "                        ide, name  = get_id_and_name(person)\n",
    "                        if ide not in graph:\n",
    "                            data = {\n",
    "                                'id': ide,\n",
    "                                'type': 'person',\n",
    "                                'name': name,\n",
    "                                'activity': '',\n",
    "                                'chronology': '',\n",
    "                                'nationality': '',\n",
    "                            }\n",
    "                            graph.add_node(ide, data)\n",
    "                            graph.add_edge(ide, ID, label='_cp__exh_curator')\n",
    "                        elif graph.node[ide]['type'] == 'person':\n",
    "                            graph.add_edge(ide, ID, label='_cp__exh_curator')\n",
    "                if '_cp__exh_art_collector' in e['meta']:\n",
    "                    for person in e['meta']['_cp__exh_art_collector']:\n",
    "                        ide, name  = get_id_and_name(person)\n",
    "                        if ide not in graph:\n",
    "                            data = {\n",
    "                                'id': ide,\n",
    "                                'type': 'person',\n",
    "                                'name': name,\n",
    "                                'activity': '',\n",
    "                                'chronology': '',\n",
    "                                'nationality': '',\n",
    "                            }\n",
    "                            graph.add_node(ide, data)\n",
    "                            graph.add_edge(ide, ID, label='_cp__exh_art_collector')\n",
    "                        elif graph.node[ide]['type'] == 'person':\n",
    "                            graph.add_edge(ide, ID, label='_cp__exh_art_collector')\n",
    "                        elif graph.node[ide]['type'] == 'entity':\n",
    "                            graph.add_edge(ide, ID, label='entity_art_collector') #\n",
    "                if '_cp__exh_museography' in e['meta']:\n",
    "                    for company in e['meta']['_cp__exh_museography']:\n",
    "                        ide, name  = get_id_and_name(company)\n",
    "                        if ide not in graph:\n",
    "                            data = {\n",
    "                                'id': ide,\n",
    "                                'type': 'company',\n",
    "                                'name': name,\n",
    "                                'activity': '',\n",
    "                                'nationality': '',\n",
    "                            }\n",
    "                            graph.add_node(ide, data)\n",
    "                            graph.add_edge(ide, ID, label='_cp__exh_museography')\n",
    "                        elif graph.node[ide]['type'] == 'company':\n",
    "                            graph.add_edge(ide, ID, label='_cp__exh_museography')\n",
    "                if '_cp__exh_catalog' in e['meta']:\n",
    "                    for book in e['meta']['_cp__exh_catalog']:\n",
    "                        ide, name  = get_id_and_name(book)\n",
    "                        if ide not in graph:\n",
    "                            data = {\n",
    "                                'id': ide,\n",
    "                                'type': 'book',\n",
    "                                'title': name,\n",
    "                                'publisher': '',\n",
    "                                'date': '',\n",
    "                            }\n",
    "                            graph.add_node(ide, data)\n",
    "                            graph.add_edge(ID, ide, label='_cp__exh_catalog')\n",
    "                        elif graph.node[ide]['type'] == 'book':\n",
    "                            graph.add_edge(ID, ide, label='_cp__exh_catalog')"
   ]
  },
  {
   "cell_type": "markdown",
   "metadata": {},
   "source": [
    "## Reduction"
   ]
  },
  {
   "cell_type": "code",
   "execution_count": 8,
   "metadata": {
    "collapsed": true
   },
   "outputs": [],
   "source": [
    "from collections import Counter\n",
    "from collections import defaultdict\n",
    "\n",
    "sizes = defaultdict(int)\n",
    "for ide, data in graph.nodes_iter(data=True):\n",
    "    sizes[data['type']] += 1\n",
    "\n",
    "total = defaultdict(list)\n",
    "for ide, data in graph.nodes_iter(data=True):\n",
    "    deg = graph.degree(ide)\n",
    "    res = [ide] * deg\n",
    "    total[data['type']].extend(res)\n",
    "\n",
    "freqs = {}\n",
    "for k in total:\n",
    "    length = len(set(total[k]))\n",
    "    freqs[k] = Counter(total[k]).most_common(max(length // 3, 1))\n",
    "\n",
    "new_nodes = set()\n",
    "for k in freqs:\n",
    "    for ide, fr in freqs[k]:\n",
    "        new_nodes.add(ide)\n",
    "\n",
    "for n in graph.nodes():\n",
    "    if n not in new_nodes:\n",
    "        graph.remove_node(n)"
   ]
  },
  {
   "cell_type": "code",
   "execution_count": 9,
   "metadata": {
    "collapsed": false
   },
   "outputs": [
    {
     "data": {
      "text/plain": [
       "7179"
      ]
     },
     "execution_count": 9,
     "metadata": {},
     "output_type": "execute_result"
    }
   ],
   "source": [
    "len(graph)"
   ]
  },
  {
   "cell_type": "markdown",
   "metadata": {},
   "source": [
    "# Exporting to Sylva"
   ]
  },
  {
   "cell_type": "markdown",
   "metadata": {},
   "source": [
    "## Mappings"
   ]
  },
  {
   "cell_type": "code",
   "execution_count": 10,
   "metadata": {
    "collapsed": false
   },
   "outputs": [],
   "source": [
    "# Classes\n",
    "classes = {\n",
    "    'entity': 'Entidad',\n",
    "    'person': 'Persona',\n",
    "    'book': 'Publicación',\n",
    "    'company': 'Empresa',\n",
    "    'exhibition': 'Exposición',\n",
    "}\n",
    "\n",
    "# Attributes\n",
    "attributes = {\n",
    "    'entity': {\n",
    "        'name': 'nombre',\n",
    "        'keyword': 'palabra clave',\n",
    "        'typology': 'tipología',\n",
    "        'ownership': 'titularidad',\n",
    "        'nationality': 'país',\n",
    "    },\n",
    "    'person': {\n",
    "        'name': 'nombre',\n",
    "        'activity': 'actividad',\n",
    "        'chronology': 'cronología',\n",
    "        'nationality': 'nacionalidad',\n",
    "    },\n",
    "    'book': {\n",
    "        'title': 'título',\n",
    "        'publisher': 'editorial',\n",
    "        'date': 'fecha',\n",
    "    },\n",
    "    'company': {\n",
    "        'name': 'nombre',\n",
    "        'activity': 'actividad',\n",
    "        'nationality': 'nacionalidad',\n",
    "    },\n",
    "    'exhibition': {\n",
    "        'title': 'título',\n",
    "        'movement': 'movimiento',\n",
    "        'period': 'período',\n",
    "        'topic': 'tema',\n",
    "        'artwork_type': 'tipo de artefactos',\n",
    "        'typology': 'tipología',\n",
    "        'nationality': 'país',\n",
    "    },\n",
    "}\n",
    "\n",
    "# Relationships\n",
    "relationships = {\n",
    "    '_cp__peo_entity_relation': 'pertenece a',\n",
    "    '_cp__boo_paper_author': 'autor de',\n",
    "    '_cp__boo_sponsorship': 'financia publicación',\n",
    "    '_cp__exh_info_source': 'fuente de información',\n",
    "    '_cp__exh_supporter_entity': 'organiza',\n",
    "    '_cp__exh_funding_entity': 'financia exposición',\n",
    "    '_cp__exh_artwork_author': 'participa en',\n",
    "    '_cp__exh_curator': 'comisaria',\n",
    "    '_cp__exh_art_collector': 'presta colecciones',\n",
    "    '_cp__exh_museography': 'produce (museografía)',\n",
    "    '_cp__exh_catalog': 'se inscribe en',\n",
    "    'entity_art_collector': 'presta colecciones expo', #\n",
    "}"
   ]
  },
  {
   "cell_type": "markdown",
   "metadata": {},
   "source": [
    "## File system"
   ]
  },
  {
   "cell_type": "code",
   "execution_count": 11,
   "metadata": {
    "collapsed": true
   },
   "outputs": [],
   "source": [
    "import csv\n",
    "import os\n",
    "import shutil\n",
    "from collections import defaultdict"
   ]
  },
  {
   "cell_type": "code",
   "execution_count": 12,
   "metadata": {
    "collapsed": false
   },
   "outputs": [],
   "source": [
    "shutil.rmtree('sylva/nodes', ignore_errors=True)\n",
    "shutil.rmtree('sylva/relationships', ignore_errors=True)\n",
    "os.makedirs('sylva/nodes')\n",
    "os.makedirs('sylva/relationships')"
   ]
  },
  {
   "cell_type": "code",
   "execution_count": 13,
   "metadata": {
    "collapsed": false
   },
   "outputs": [],
   "source": [
    "for k in classes:\n",
    "    with open(os.path.join('sylva/nodes', classes[k] + '.csv'), 'w') as f:\n",
    "        writer = csv.writer(\n",
    "            f,\n",
    "            delimiter=',',\n",
    "            quotechar='\"',\n",
    "            quoting=csv.QUOTE_ALL\n",
    "        )\n",
    "        attr_items = attributes[k].items()\n",
    "        header = ['id', 'type'] + [x[1] for x in attr_items]\n",
    "        writer.writerow(header)\n",
    "        attrs = ['id', 'type'] + [x[0] for x in attr_items]\n",
    "        for ide, data in graph.nodes_iter(data=True):\n",
    "            if data['type'] == k:\n",
    "                row = [data[a] if a != 'type' else classes[data[a]] for a in attrs]\n",
    "                writer.writerow(row)\n",
    "for k in relationships:\n",
    "    with open(os.path.join('sylva/relationships', relationships[k] + '.csv'), 'w') as f:\n",
    "        writer = csv.writer(\n",
    "            f,\n",
    "            delimiter=',',\n",
    "            quotechar='\"',\n",
    "            quoting=csv.QUOTE_ALL\n",
    "        )\n",
    "        header = ['source id', 'target id', 'label']\n",
    "        writer.writerow(header)\n",
    "        attrs = ['id', 'type'] + [x[0] for x in attr_items]\n",
    "        for id1, id2, data in graph.edges_iter(data=True):\n",
    "            if data['label'] == k:\n",
    "                row = [id1, id2, relationships[k]]\n",
    "                writer.writerow(row)"
   ]
  },
  {
   "cell_type": "code",
   "execution_count": null,
   "metadata": {
    "collapsed": true
   },
   "outputs": [],
   "source": []
  },
  {
   "cell_type": "code",
   "execution_count": null,
   "metadata": {
    "collapsed": true
   },
   "outputs": [],
   "source": []
  },
  {
   "cell_type": "code",
   "execution_count": null,
   "metadata": {
    "collapsed": true
   },
   "outputs": [],
   "source": []
  },
  {
   "cell_type": "code",
   "execution_count": null,
   "metadata": {
    "collapsed": true
   },
   "outputs": [],
   "source": []
  },
  {
   "cell_type": "code",
   "execution_count": null,
   "metadata": {
    "collapsed": true
   },
   "outputs": [],
   "source": []
  },
  {
   "cell_type": "code",
   "execution_count": null,
   "metadata": {
    "collapsed": true
   },
   "outputs": [],
   "source": []
  },
  {
   "cell_type": "code",
   "execution_count": null,
   "metadata": {
    "collapsed": true
   },
   "outputs": [],
   "source": []
  },
  {
   "cell_type": "code",
   "execution_count": 13,
   "metadata": {
    "collapsed": false
   },
   "outputs": [],
   "source": [
    "with open(os.path.join('sylva/relationships/autor de.csv')) as f:\n",
    "    reader = csv.reader(\n",
    "        f,\n",
    "        delimiter=',',\n",
    "        quotechar='\"'\n",
    "    )\n",
    "    next(reader, None)\n",
    "    for row in reader:\n",
    "        if graph.node[row[0]]['type'] != 'person':\n",
    "            print('1', graph.node[row[0]])\n",
    "            break\n",
    "        if graph.node[row[1]]['type'] != 'book':\n",
    "            print('2', graph.node[row[1]])\n",
    "            break\n",
    "        if relationships[list(list(graph[row[0]][row[1]].values())[0].values())[0]] != 'autor de':\n",
    "            print('3', graph[row[0]][row[1]])\n",
    "            break"
   ]
  },
  {
   "cell_type": "code",
   "execution_count": 14,
   "metadata": {
    "collapsed": false
   },
   "outputs": [
    {
     "name": "stdout",
     "output_type": "stream",
     "text": [
      "3 {0: {'label': '_cp__exh_artwork_author'}, 1: {'label': '_cp__exh_curator'}}\n"
     ]
    }
   ],
   "source": [
    "with open(os.path.join('sylva/relationships/comisaria.csv')) as f:\n",
    "    reader = csv.reader(\n",
    "        f,\n",
    "        delimiter=',',\n",
    "        quotechar='\"'\n",
    "    )\n",
    "    next(reader, None)\n",
    "    for row in reader:\n",
    "        if graph.node[row[0]]['type'] != 'person':\n",
    "            print('1', graph.node[row[0]])\n",
    "            break\n",
    "        if graph.node[row[1]]['type'] != 'exhibition':\n",
    "            print('2', graph.node[row[1]])\n",
    "            break\n",
    "        if relationships[list(list(graph[row[0]][row[1]].values())[0].values())[0]] != 'comisaria':\n",
    "            print('3', graph[row[0]][row[1]])\n",
    "            break"
   ]
  },
  {
   "cell_type": "code",
   "execution_count": 15,
   "metadata": {
    "collapsed": false
   },
   "outputs": [
    {
     "name": "stdout",
     "output_type": "stream",
     "text": [
      "3 {0: {'label': '_cp__exh_supporter_entity'}, 1: {'label': '_cp__exh_funding_entity'}}\n"
     ]
    }
   ],
   "source": [
    "with open(os.path.join('sylva/relationships/financia exposición.csv')) as f:\n",
    "    reader = csv.reader(\n",
    "        f,\n",
    "        delimiter=',',\n",
    "        quotechar='\"'\n",
    "    )\n",
    "    next(reader, None)\n",
    "    for row in reader:\n",
    "        if graph.node[row[0]]['type'] != 'entity':\n",
    "            print('1', graph.node[row[0]])\n",
    "            break\n",
    "        if graph.node[row[1]]['type'] != 'exhibition':\n",
    "            print('2', graph.node[row[1]])\n",
    "            break\n",
    "        if relationships[list(list(graph[row[0]][row[1]].values())[0].values())[0]] != 'financia exposición':\n",
    "            print('3', graph[row[0]][row[1]])\n",
    "            break"
   ]
  },
  {
   "cell_type": "code",
   "execution_count": 16,
   "metadata": {
    "collapsed": false
   },
   "outputs": [],
   "source": [
    "with open(os.path.join('sylva/relationships/financia publicación.csv')) as f:\n",
    "    reader = csv.reader(\n",
    "        f,\n",
    "        delimiter=',',\n",
    "        quotechar='\"'\n",
    "    )\n",
    "    next(reader, None)\n",
    "    for row in reader:\n",
    "        if graph.node[row[0]]['type'] != 'entity':\n",
    "            print('1', graph.node[row[0]])\n",
    "            break\n",
    "        if graph.node[row[1]]['type'] != 'book':\n",
    "            print('2', graph.node[row[1]])\n",
    "            break\n",
    "        if relationships[list(list(graph[row[0]][row[1]].values())[0].values())[0]] != 'financia publicación':\n",
    "            print('3', graph[row[0]][row[1]])\n",
    "            break"
   ]
  },
  {
   "cell_type": "code",
   "execution_count": 17,
   "metadata": {
    "collapsed": false
   },
   "outputs": [],
   "source": [
    "with open(os.path.join('sylva/relationships/fuente de información.csv')) as f:\n",
    "    reader = csv.reader(\n",
    "        f,\n",
    "        delimiter=',',\n",
    "        quotechar='\"'\n",
    "    )\n",
    "    next(reader, None)\n",
    "    for row in reader:\n",
    "        if graph.node[row[0]]['type'] != 'entity':\n",
    "            print('1', graph.node[row[0]])\n",
    "            break\n",
    "        if graph.node[row[1]]['type'] != 'exhibition':\n",
    "            print('2', graph.node[row[1]])\n",
    "            break\n",
    "        if relationships[list(list(graph[row[0]][row[1]].values())[0].values())[0]] != 'fuente de información':\n",
    "            print('3', graph[row[0]][row[1]])\n",
    "            break"
   ]
  },
  {
   "cell_type": "code",
   "execution_count": 18,
   "metadata": {
    "collapsed": false
   },
   "outputs": [
    {
     "name": "stdout",
     "output_type": "stream",
     "text": [
      "3 {0: {'label': '_cp__exh_info_source'}, 1: {'label': '_cp__exh_supporter_entity'}}\n"
     ]
    }
   ],
   "source": [
    "with open(os.path.join('sylva/relationships/organiza.csv')) as f:\n",
    "    reader = csv.reader(\n",
    "        f,\n",
    "        delimiter=',',\n",
    "        quotechar='\"'\n",
    "    )\n",
    "    next(reader, None)\n",
    "    for row in reader:\n",
    "        if graph.node[row[0]]['type'] != 'entity':\n",
    "            print('1', graph.node[row[0]])\n",
    "            break\n",
    "        if graph.node[row[1]]['type'] != 'exhibition':\n",
    "            print('2', graph.node[row[1]])\n",
    "            break\n",
    "        if relationships[list(list(graph[row[0]][row[1]].values())[0].values())[0]] != 'organiza':\n",
    "            print('3', graph[row[0]][row[1]])\n",
    "            break"
   ]
  },
  {
   "cell_type": "code",
   "execution_count": 19,
   "metadata": {
    "collapsed": false
   },
   "outputs": [],
   "source": [
    "with open(os.path.join('sylva/relationships/participa en.csv')) as f:\n",
    "    reader = csv.reader(\n",
    "        f,\n",
    "        delimiter=',',\n",
    "        quotechar='\"'\n",
    "    )\n",
    "    next(reader, None)\n",
    "    for row in reader:\n",
    "        if graph.node[row[0]]['type'] != 'person':\n",
    "            print('1', graph.node[row[0]])\n",
    "            break\n",
    "        if graph.node[row[1]]['type'] != 'exhibition':\n",
    "            print('2', graph.node[row[1]])\n",
    "            break\n",
    "        if relationships[list(list(graph[row[0]][row[1]].values())[0].values())[0]] != 'participa en':\n",
    "            print('3', graph[row[0]][row[1]])\n",
    "            break"
   ]
  },
  {
   "cell_type": "code",
   "execution_count": 20,
   "metadata": {
    "collapsed": false
   },
   "outputs": [],
   "source": [
    "with open(os.path.join('sylva/relationships/pertenece a.csv')) as f:\n",
    "    reader = csv.reader(\n",
    "        f,\n",
    "        delimiter=',',\n",
    "        quotechar='\"'\n",
    "    )\n",
    "    next(reader, None)\n",
    "    for row in reader:\n",
    "        if graph.node[row[0]]['type'] != 'person':\n",
    "            print('1', graph.node[row[0]])\n",
    "            break\n",
    "        if graph.node[row[1]]['type'] != 'entity':\n",
    "            print('2', graph.node[row[1]])\n",
    "            break\n",
    "        if relationships[list(list(graph[row[0]][row[1]].values())[0].values())[0]] != 'pertenece a':\n",
    "            print('3', graph[row[0]][row[1]])\n",
    "            break"
   ]
  },
  {
   "cell_type": "code",
   "execution_count": 21,
   "metadata": {
    "collapsed": false
   },
   "outputs": [],
   "source": [
    "with open(os.path.join('sylva/relationships/presta colecciones.csv')) as f:\n",
    "    reader = csv.reader(\n",
    "        f,\n",
    "        delimiter=',',\n",
    "        quotechar='\"'\n",
    "    )\n",
    "    next(reader, None)\n",
    "    for row in reader:\n",
    "        if graph.node[row[0]]['type'] != 'person':\n",
    "            print('1', graph.node[row[0]])\n",
    "            break\n",
    "        if graph.node[row[1]]['type'] != 'exhibition':\n",
    "            print('2', graph.node[row[1]])\n",
    "            break\n",
    "        if relationships[list(list(graph[row[0]][row[1]].values())[0].values())[0]] != 'presta colecciones':\n",
    "            print('3', graph[row[0]][row[1]])\n",
    "            break"
   ]
  },
  {
   "cell_type": "code",
   "execution_count": 22,
   "metadata": {
    "collapsed": false
   },
   "outputs": [
    {
     "name": "stdout",
     "output_type": "stream",
     "text": [
      "3 {0: {'label': '_cp__exh_info_source'}, 1: {'label': '_cp__exh_supporter_entity'}, 2: {'label': 'entity_art_collector'}}\n"
     ]
    }
   ],
   "source": [
    "with open(os.path.join('sylva/relationships/presta colecciones expo.csv')) as f:\n",
    "    reader = csv.reader(\n",
    "        f,\n",
    "        delimiter=',',\n",
    "        quotechar='\"'\n",
    "    )\n",
    "    next(reader, None)\n",
    "    for row in reader:\n",
    "        if graph.node[row[0]]['type'] != 'entity':\n",
    "            print('1', graph.node[row[0]])\n",
    "            break\n",
    "        if graph.node[row[1]]['type'] != 'exhibition':\n",
    "            print('2', graph.node[row[1]])\n",
    "            break\n",
    "        if relationships[list(list(graph[row[0]][row[1]].values())[0].values())[0]] != 'presta colecciones expo':\n",
    "            print('3', graph[row[0]][row[1]])\n",
    "            break"
   ]
  },
  {
   "cell_type": "code",
   "execution_count": 23,
   "metadata": {
    "collapsed": false
   },
   "outputs": [],
   "source": [
    "with open(os.path.join('sylva/relationships/produce (museografía).csv')) as f:\n",
    "    reader = csv.reader(\n",
    "        f,\n",
    "        delimiter=',',\n",
    "        quotechar='\"'\n",
    "    )\n",
    "    next(reader, None)\n",
    "    for row in reader:\n",
    "        if graph.node[row[0]]['type'] != 'company':\n",
    "            print('1', graph.node[row[0]])\n",
    "            break\n",
    "        if graph.node[row[1]]['type'] != 'exhibition':\n",
    "            print('2', graph.node[row[1]])\n",
    "            break\n",
    "        if relationships[list(list(graph[row[0]][row[1]].values())[0].values())[0]] != 'produce (museografía)':\n",
    "            print('3', graph[row[0]][row[1]])\n",
    "            break"
   ]
  },
  {
   "cell_type": "code",
   "execution_count": 24,
   "metadata": {
    "collapsed": false
   },
   "outputs": [],
   "source": [
    "with open(os.path.join('sylva/relationships/se inscribe en.csv')) as f:\n",
    "    reader = csv.reader(\n",
    "        f,\n",
    "        delimiter=',',\n",
    "        quotechar='\"'\n",
    "    )\n",
    "    next(reader, None)\n",
    "    for row in reader:\n",
    "        if graph.node[row[0]]['type'] != 'exhibition':\n",
    "            print('1', graph.node[row[0]])\n",
    "            break\n",
    "        if graph.node[row[1]]['type'] != 'book':\n",
    "            print('2', graph.node[row[1]])\n",
    "            break\n",
    "        if relationships[list(list(graph[row[0]][row[1]].values())[0].values())[0]] != 'se inscribe en':\n",
    "            print('3', graph[row[0]][row[1]])\n",
    "            break"
   ]
  },
  {
   "cell_type": "code",
   "execution_count": 25,
   "metadata": {
    "collapsed": false
   },
   "outputs": [],
   "source": [
    "for e in os.listdir('sylva/nodes/'):\n",
    "    with open(os.path.join('sylva/nodes/', e)) as f:\n",
    "        reader = csv.reader(\n",
    "            f,\n",
    "            delimiter=',',\n",
    "            quotechar='\"'\n",
    "        )\n",
    "        next(reader, None)\n",
    "        for row in reader:\n",
    "            if classes[graph.node[row[0]]['type']] != e[:-4]:\n",
    "                print('ERROR')\n",
    "                break"
   ]
  },
  {
   "cell_type": "code",
   "execution_count": 26,
   "metadata": {
    "collapsed": true
   },
   "outputs": [],
   "source": [
    "# from collections import Counter\n",
    "# from collections import defaultdict\n",
    "\n",
    "# sizes = defaultdict(int)\n",
    "# for ide, data in graph.nodes_iter(data=True):\n",
    "#     sizes[data['type']] += 1\n",
    "\n",
    "# total = defaultdict(list)\n",
    "# for ide, data in graph.nodes_iter(data=True):\n",
    "#     deg = graph.degree(ide)\n",
    "#     res = [ide] * deg\n",
    "#     total[data['type']].extend(res)\n",
    "\n",
    "# freqs = {}\n",
    "# for k in total:\n",
    "#     length = len(set(total[k]))\n",
    "#     freqs[k] = Counter(total[k]).most_common(max(length // 10, 1))\n",
    "\n",
    "# new_nodes = set()\n",
    "# for k in freqs:\n",
    "#     for ide, fr in freqs[k]:\n",
    "#         new_nodes.add(ide)\n",
    "\n",
    "# for n in graph.nodes():\n",
    "#     if n not in new_nodes:\n",
    "#         graph.remove_node(n)"
   ]
  },
  {
   "cell_type": "code",
   "execution_count": null,
   "metadata": {
    "collapsed": true
   },
   "outputs": [],
   "source": []
  }
 ],
 "metadata": {
  "kernelspec": {
   "display_name": "Python 3",
   "language": "python",
   "name": "python3"
  },
  "language_info": {
   "codemirror_mode": {
    "name": "ipython",
    "version": 3
   },
   "file_extension": ".py",
   "mimetype": "text/x-python",
   "name": "python",
   "nbconvert_exporter": "python",
   "pygments_lexer": "ipython3",
   "version": "3.4.3"
  }
 },
 "nbformat": 4,
 "nbformat_minor": 0
}
