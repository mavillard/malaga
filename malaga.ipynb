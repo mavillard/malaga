{
 "cells": [
  {
   "cell_type": "code",
   "execution_count": 28,
   "metadata": {
    "collapsed": true
   },
   "outputs": [],
   "source": [
    "import json\n",
    "\n",
    "import networkx as nx"
   ]
  },
  {
   "cell_type": "code",
   "execution_count": 4,
   "metadata": {
    "collapsed": false
   },
   "outputs": [
    {
     "name": "stdout",
     "output_type": "stream",
     "text": [
      "emp-posts.json  ent-terms.json  per-posts.json  pub-terms.json\r\n",
      "emp-terms.json  exp-posts.json  per-terms.json  ter-posts.json\r\n",
      "ent-posts.json  exp-terms.json  pub-posts.json  ter-terms.json\r\n"
     ]
    }
   ],
   "source": [
    "ls data"
   ]
  },
  {
   "cell_type": "code",
   "execution_count": 14,
   "metadata": {
    "collapsed": true
   },
   "outputs": [],
   "source": [
    "# Mappings\n",
    "\n",
    "classes = {\n",
    "    'entity': 'Entidad',\n",
    "    'person': 'Persona',\n",
    "    'book': 'Publicación',\n",
    "    'company': 'Empresa',\n",
    "    'exhibition': 'Exposición',\n",
    "}"
   ]
  },
  {
   "cell_type": "code",
   "execution_count": 32,
   "metadata": {
    "collapsed": true
   },
   "outputs": [],
   "source": [
    "graph = nx.DiGraph()"
   ]
  },
  {
   "cell_type": "code",
   "execution_count": 33,
   "metadata": {
    "collapsed": false
   },
   "outputs": [],
   "source": [
    "# Nodes\n",
    "\n",
    "for c in ['ent', 'per', 'pub', 'emp', 'exp']:\n",
    "    with open('data/' + c + '-posts.json') as f:\n",
    "        js = json.load(f)\n",
    "        for e in js[1:]:\n",
    "            ide = e['ID']\n",
    "            typ = e['post_type']\n",
    "            if typ == 'entity':\n",
    "                name = e['post_title']\n",
    "                keyword = ''\n",
    "                typology = ''\n",
    "                aux = [t['name'] for t in e['terms'] if t['taxonomy'] == 'tax_typology']\n",
    "                if aux:\n",
    "                    typology = aux[0]\n",
    "                    if len(aux)>1:\n",
    "                        print('ERROR')\n",
    "                ownership = ''\n",
    "                aux = [t['name'] for t in e['terms'] if t['taxonomy'] == 'tax_ownership']\n",
    "                if aux:\n",
    "                    ownership = aux[0]\n",
    "                    if len(aux)>1:\n",
    "                        print('ERROR')\n",
    "                data = {\n",
    "                    'id': ide,\n",
    "                    'type': typ,\n",
    "                    'name': name,\n",
    "                    'keyword': keyword,\n",
    "                    'typology': typology,\n",
    "                    'ownership': ownership,\n",
    "                }\n",
    "            elif typ == 'person':\n",
    "                name = e['post_title']\n",
    "                activity = ''\n",
    "                aux = [t['name'] for t in e['terms'] if t['taxonomy'] == 'tax_activity']\n",
    "                if aux:\n",
    "                    activity = aux[0]\n",
    "                    if len(aux)>1:\n",
    "                        print('ERROR')\n",
    "                chronology = ''\n",
    "                nationality = e['meta']['_cp__peo_country'][0]\n",
    "                data = {\n",
    "                    'id': ide,\n",
    "                    'type': typ,\n",
    "                    'name': name,\n",
    "                    'activity': activity\n",
    "                    'chronology': chronology,\n",
    "                    'nationality': nationality,\n",
    "                }\n",
    "            elif typ == 'book':\n",
    "                title = e['post_title']\n",
    "                editorial = ''\n",
    "                aux = [t['name'] for t in e['terms'] if t['taxonomy'] == 'tax_publisher']\n",
    "                if aux:\n",
    "                    editorial = aux[0]\n",
    "                    if len(aux)>1:\n",
    "                        print('ERROR')\n",
    "                date = e['meta']['_cp__boo_publishing_date'][0]\n",
    "                data = {\n",
    "                    'id': ide,\n",
    "                    'type': typ,\n",
    "                    'title': title,\n",
    "                    'date': date,\n",
    "                    'editorial': editorial,\n",
    "                }\n",
    "            elif typ == 'company':\n",
    "                name = e['post_title']\n",
    "                activity = ''\n",
    "                nationality = e['meta']['_cp__com_company_headquarter_place'][0].split('; ')[-1]\n",
    "                data = {\n",
    "                    'id': ide,\n",
    "                    'type': typ,\n",
    "                    'name': name,\n",
    "                    'activity': activity,\n",
    "                    'nationality': nationality,\n",
    "                }\n",
    "            elif typ == 'exhibition':\n",
    "                title = e['post_title']\n",
    "                period = e['meta']['_cp__com_company_headquarter_place'][0].split('; ')[-1]\n",
    "                artwork_type = ''\n",
    "                ...\n",
    "                topic\n",
    "                typology\n",
    "                data = {\n",
    "                    'id': ide,\n",
    "                    'type': typ,\n",
    "                    'name': name,\n",
    "                    'activity': activity,\n",
    "                    'nationality': nationality,\n",
    "                }\n",
    "            \n",
    "            PROBAR: Para cada registro, mirar cuantos taxonomies tiene del mismo tipo (meter todos los tipos en una\n",
    "            lista, hacer un Counter y calcular el maximo y ver si es >1). Los q salgan >1 necesitan otra clase.\n",
    "            \n",
    "            \n",
    "            graph.add_node(ide, data)"
   ]
  },
  {
   "cell_type": "code",
   "execution_count": 41,
   "metadata": {
    "collapsed": false
   },
   "outputs": [
    {
     "name": "stdout",
     "output_type": "stream",
     "text": [
      "{'typology': '', 'id': 34099, 'ownership': '', 'type': 'entity', 'name': 'FABA. Fundación Almine y Bernard Ruiz-Picasso para el Arte'}\n",
      "{'typology': '', 'id': 42309, 'ownership': '', 'type': 'entity', 'name': 'Ayuntamiento de Adalia'}\n",
      "{'typology': '', 'id': 42310, 'ownership': '', 'type': 'entity', 'name': 'Ayuntamiento de Aguasal'}\n",
      "{'typology': '', 'id': 42311, 'ownership': '', 'type': 'entity', 'name': 'Ayuntamiento de Aguilar de Campos'}\n",
      "{'typology': '', 'id': 42312, 'ownership': '', 'type': 'entity', 'name': 'Ayuntamiento de Alaejos'}\n",
      "{'typology': '', 'id': 42313, 'ownership': '', 'type': 'entity', 'name': 'Ayuntamiento de Alcazarén'}\n",
      "{'typology': '', 'id': 42314, 'ownership': '', 'type': 'entity', 'name': 'Ayuntamiento de Aldea de San Miguel'}\n",
      "{'typology': '', 'id': 42315, 'ownership': '', 'type': 'entity', 'name': 'Ayuntamiento de Aldeamayor de San Martín'}\n",
      "{'typology': '', 'id': 42316, 'ownership': '', 'type': 'entity', 'name': 'Ayuntamiento de Almenara de Adaja'}\n",
      "{'typology': '', 'id': 42318, 'ownership': '', 'type': 'entity', 'name': 'Ayuntamiento de Amusquillo'}\n",
      "{'typology': '', 'id': 42319, 'ownership': '', 'type': 'entity', 'name': 'Ayuntamiento de Arroyo de la Encomienda'}\n",
      "{'typology': '', 'id': 42320, 'ownership': '', 'type': 'entity', 'name': 'Ayuntamiento de Ataquines'}\n",
      "{'typology': '', 'id': 42322, 'ownership': '', 'type': 'entity', 'name': 'Ayuntamiento de Bahabón'}\n",
      "{'typology': '', 'id': 42323, 'ownership': '', 'type': 'entity', 'name': 'Ayuntamiento de Barcial de la Loma'}\n",
      "{'typology': '', 'id': 42324, 'ownership': '', 'type': 'entity', 'name': 'Ayuntamiento de Barruelo del Valle'}\n",
      "{'typology': '', 'id': 42325, 'ownership': '', 'type': 'entity', 'name': 'Ayuntamiento de Becilla de Valderaduey'}\n",
      "{'typology': '', 'id': 42326, 'ownership': '', 'type': 'entity', 'name': 'Ayuntamiento de Benafarces'}\n",
      "{'typology': '', 'id': 42327, 'ownership': '', 'type': 'entity', 'name': 'Ayuntamiento de Bercero'}\n",
      "{'typology': '', 'id': 42329, 'ownership': '', 'type': 'entity', 'name': 'Ayuntamiento de Berceruelo'}\n",
      "{'typology': '', 'id': 42330, 'ownership': '', 'type': 'entity', 'name': 'Ayuntamiento de Berrueces'}\n",
      "{'typology': '', 'id': 42331, 'ownership': '', 'type': 'entity', 'name': 'Ayuntamiento de Bobadilla del Campo'}\n",
      "{'typology': '', 'id': 42332, 'ownership': '', 'type': 'entity', 'name': 'Ayuntamiento de Bocigas'}\n",
      "{'typology': '', 'id': 42334, 'ownership': '', 'type': 'entity', 'name': 'Ayuntamiento de Bocos de Duero'}\n",
      "{'typology': '', 'id': 42335, 'ownership': '', 'type': 'entity', 'name': 'Ayuntamiento de Boecillo'}\n",
      "{'typology': '', 'id': 42336, 'ownership': '', 'type': 'entity', 'name': 'Ayuntamiento de Bolaños de Campos'}\n",
      "{'typology': '', 'id': 42337, 'ownership': '', 'type': 'entity', 'name': 'Ayuntamiento de Brahojos de Medina'}\n",
      "{'typology': '', 'id': 42338, 'ownership': '', 'type': 'entity', 'name': 'Ayuntamiento de Bustillo de Chaves'}\n",
      "{'typology': '', 'id': 42339, 'ownership': '', 'type': 'entity', 'name': 'Ayuntamiento de Cabezón de Pisuerga'}\n",
      "{'typology': '', 'id': 42341, 'ownership': '', 'type': 'entity', 'name': 'Ayuntamiento de Cabezón de Valderaduey'}\n",
      "{'typology': '', 'id': 42342, 'ownership': '', 'type': 'entity', 'name': 'Ayuntamiento de Cabreros del Monte'}\n",
      "{'typology': '', 'id': 42343, 'ownership': '', 'type': 'entity', 'name': 'Ayuntamiento de Campaspero'}\n",
      "{'typology': '', 'id': 42345, 'ownership': '', 'type': 'entity', 'name': 'Ayuntamiento de El Campillo'}\n",
      "{'typology': '', 'id': 42346, 'ownership': '', 'type': 'entity', 'name': 'Ayuntamiento de Camporredondo'}\n",
      "{'typology': '', 'id': 42348, 'ownership': '', 'type': 'entity', 'name': 'Ayuntamiento de Canalejas de Peñafiel'}\n",
      "{'typology': '', 'id': 42349, 'ownership': '', 'type': 'entity', 'name': 'Ayuntamiento de Canillas de Esgueva'}\n",
      "{'typology': '', 'id': 42350, 'ownership': '', 'type': 'entity', 'name': 'Ayuntamiento de Carpio'}\n",
      "{'typology': '', 'id': 42351, 'ownership': '', 'type': 'entity', 'name': 'Ayuntamiento de Casasola de Arión'}\n",
      "{'typology': '', 'id': 42352, 'ownership': '', 'type': 'entity', 'name': 'Ayuntamiento de Castrejón de Trabancos'}\n",
      "{'typology': '', 'id': 42353, 'ownership': '', 'type': 'entity', 'name': 'Ayuntamiento de Castrillo de Duero'}\n",
      "{'typology': '', 'id': 42354, 'ownership': '', 'type': 'entity', 'name': 'Ayuntamiento de Castrillo-Tejeriego'}\n",
      "{'typology': '', 'id': 42355, 'ownership': '', 'type': 'entity', 'name': 'Ayuntamiento de Castrobol'}\n",
      "{'typology': '', 'id': 42358, 'ownership': '', 'type': 'entity', 'name': 'Ayuntamiento de Castrodeza'}\n",
      "{'typology': '', 'id': 42359, 'ownership': '', 'type': 'entity', 'name': 'Ayuntamiento de Castromembibre'}\n",
      "{'typology': '', 'id': 42360, 'ownership': '', 'type': 'entity', 'name': 'Ayuntamiento de Castromonte'}\n",
      "{'typology': '', 'id': 44864, 'ownership': 'Titularidad privada', 'type': 'entity', 'name': 'Abanca Colección de arte'}\n",
      "{'typology': '', 'id': 21817, 'ownership': '', 'type': 'entity', 'name': 'Philip Morris Spain'}\n"
     ]
    }
   ],
   "source": [
    "c=0\n",
    "for ide, data in graph.nodes_iter(data=True):\n",
    "    if not data['typology']:\n",
    "        c+=1\n",
    "        print(data)"
   ]
  },
  {
   "cell_type": "code",
   "execution_count": 40,
   "metadata": {
    "collapsed": false
   },
   "outputs": [
    {
     "data": {
      "text/plain": [
       "46"
      ]
     },
     "execution_count": 40,
     "metadata": {},
     "output_type": "execute_result"
    }
   ],
   "source": [
    "c"
   ]
  },
  {
   "cell_type": "code",
   "execution_count": null,
   "metadata": {
    "collapsed": true
   },
   "outputs": [],
   "source": []
  }
 ],
 "metadata": {
  "kernelspec": {
   "display_name": "Python 3",
   "language": "python",
   "name": "python3"
  },
  "language_info": {
   "codemirror_mode": {
    "name": "ipython",
    "version": 3
   },
   "file_extension": ".py",
   "mimetype": "text/x-python",
   "name": "python",
   "nbconvert_exporter": "python",
   "pygments_lexer": "ipython3",
   "version": "3.4.3"
  }
 },
 "nbformat": 4,
 "nbformat_minor": 0
}
